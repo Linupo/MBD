{
 "cells": [
  {
   "cell_type": "code",
   "execution_count": 24,
   "metadata": {},
   "outputs": [
    {
     "data": {
      "text/html": [
       "<div>\n",
       "<style scoped>\n",
       "    .dataframe tbody tr th:only-of-type {\n",
       "        vertical-align: middle;\n",
       "    }\n",
       "\n",
       "    .dataframe tbody tr th {\n",
       "        vertical-align: top;\n",
       "    }\n",
       "\n",
       "    .dataframe thead th {\n",
       "        text-align: right;\n",
       "    }\n",
       "</style>\n",
       "<table border=\"1\" class=\"dataframe\">\n",
       "  <thead>\n",
       "    <tr style=\"text-align: right;\">\n",
       "      <th></th>\n",
       "      <th>txId</th>\n",
       "      <th>class</th>\n",
       "      <th>transaction</th>\n",
       "    </tr>\n",
       "  </thead>\n",
       "  <tbody>\n",
       "    <tr>\n",
       "      <th>0</th>\n",
       "      <td>230425980</td>\n",
       "      <td>3</td>\n",
       "      <td>74d9bb85c6bbc471c6e18f409d23c3ef1191725bdb9037...</td>\n",
       "    </tr>\n",
       "    <tr>\n",
       "      <th>1</th>\n",
       "      <td>5530458</td>\n",
       "      <td>3</td>\n",
       "      <td>906c816344eb837a6ddcf75dece1c07f0c2a87885e0ea9...</td>\n",
       "    </tr>\n",
       "    <tr>\n",
       "      <th>2</th>\n",
       "      <td>232022460</td>\n",
       "      <td>3</td>\n",
       "      <td>6e01a383ce4d9e2ca6b3eb0725d0775fb83be4b91283cd...</td>\n",
       "    </tr>\n",
       "    <tr>\n",
       "      <th>3</th>\n",
       "      <td>232438397</td>\n",
       "      <td>2</td>\n",
       "      <td>1c61975e191e5713a0a3db62eb352314592585b18c18ee...</td>\n",
       "    </tr>\n",
       "    <tr>\n",
       "      <th>4</th>\n",
       "      <td>230460314</td>\n",
       "      <td>3</td>\n",
       "      <td>996c249ed096dbbb208f8c5247a09b0fe8e740d99189e3...</td>\n",
       "    </tr>\n",
       "  </tbody>\n",
       "</table>\n",
       "</div>"
      ],
      "text/plain": [
       "        txId class                                        transaction\n",
       "0  230425980     3  74d9bb85c6bbc471c6e18f409d23c3ef1191725bdb9037...\n",
       "1    5530458     3  906c816344eb837a6ddcf75dece1c07f0c2a87885e0ea9...\n",
       "2  232022460     3  6e01a383ce4d9e2ca6b3eb0725d0775fb83be4b91283cd...\n",
       "3  232438397     2  1c61975e191e5713a0a3db62eb352314592585b18c18ee...\n",
       "4  230460314     3  996c249ed096dbbb208f8c5247a09b0fe8e740d99189e3..."
      ]
     },
     "execution_count": 24,
     "metadata": {},
     "output_type": "execute_result"
    }
   ],
   "source": [
    "import pandas as pd \n",
    "import zipfile\n",
    "import requests\n",
    "from datetime import datetime\n",
    "import time\n",
    "import json\n",
    "\n",
    "classes = pd.read_csv('elliptic_bitcoin_dataset/elliptic_txs_classes.csv')\n",
    "deanonym = pd.read_csv(\"elliptic_bitcoin_dataset/deanonymized_result.csv\")\n",
    "\n",
    "df=classes.merge(deanonym, on=[\"txId\"])\n",
    "\n",
    "labeled_txs = df\n",
    "labeled_txs.loc[labeled_txs[\"class\"]==\"unknown\", \"class\"] = \"3\"\n",
    "labeled_txs.head()"
   ]
  },
  {
   "cell_type": "code",
   "execution_count": 53,
   "metadata": {},
   "outputs": [
    {
     "name": "stdout",
     "output_type": "stream",
     "text": [
      "good_tx_list length: 10082\n",
      "bad_tx_list length: 1726\n",
      "unknown_txs_list length: 38893\n",
      "Total length: 50701\n"
     ]
    }
   ],
   "source": [
    "good_txs = labeled_txs[labeled_txs['class'] == \"2\"]\n",
    "bad_txs = labeled_txs[labeled_txs['class'] == \"1\"]\n",
    "unknown_txs = labeled_txs[labeled_txs['class'] == \"3\"]\n",
    "\n",
    "print(f\"good_tx_list length: {len(good_txs)}\")\n",
    "print(f\"bad_tx_list length: {len(bad_txs)}\")\n",
    "print(f\"unknown_txs_list length: {len(unknown_txs)}\")\n",
    "print(f\"Total length: {len(labeled_txs)}\")"
   ]
  },
  {
   "cell_type": "code",
   "execution_count": 54,
   "metadata": {},
   "outputs": [],
   "source": [
    "json_list = []\n",
    "txs_failed_list = []\n",
    "# legal transactions\n",
    "for i in range(len(good_txs)):\n",
    "    try:\n",
    "        response = requests.get(f\"https://blockchain.info/rawtx/{good_txs['transaction'].iloc[i]}\")\n",
    "        tx_json = response.json()\n",
    "        tx_json[\"elliptic_label\"] = good_txs['class'].iloc[i]\n",
    "        json_list.append(tx_json)\n",
    "    except Exception:\n",
    "        txs_failed_list.append(good_txs['transaction'].iloc[i])\n",
    "\n",
    "# illegal transactions\n",
    "for i in range(len(bad_txs)):\n",
    "    try:\n",
    "        response = requests.get(f\"https://blockchain.info/rawtx/{bad_txs['transaction'].iloc[i]}\")\n",
    "        tx_json = response.json()\n",
    "        tx_json[\"elliptic_label\"] = bad_txs['class'].iloc[i]\n",
    "        json_list.append(tx_json)\n",
    "    except Exception:\n",
    "        txs_failed_list.append(bad_txs['transaction'].iloc[i])\n",
    "    \n",
    "with open(\"elliptic_txs_json.json\", \"w\") as f:\n",
    "    f.writelines(json.dumps(json_list))\n",
    "    \n",
    "\n",
    "with open(\"failed_txs.json\", \"w\") as f:\n",
    "    f.writelines(txs_failed_list)"
   ]
  }
 ],
 "metadata": {
  "kernelspec": {
   "display_name": "Python 3",
   "language": "python",
   "name": "python3"
  },
  "language_info": {
   "codemirror_mode": {
    "name": "ipython",
    "version": 3
   },
   "file_extension": ".py",
   "mimetype": "text/x-python",
   "name": "python",
   "nbconvert_exporter": "python",
   "pygments_lexer": "ipython3",
   "version": "3.9.4"
  }
 },
 "nbformat": 4,
 "nbformat_minor": 2
}
